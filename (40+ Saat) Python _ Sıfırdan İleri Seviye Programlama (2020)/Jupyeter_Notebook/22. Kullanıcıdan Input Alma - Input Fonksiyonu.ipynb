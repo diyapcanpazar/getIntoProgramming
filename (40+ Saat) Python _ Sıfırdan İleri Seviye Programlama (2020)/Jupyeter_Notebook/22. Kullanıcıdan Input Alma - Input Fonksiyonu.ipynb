{
 "cells": [
  {
   "cell_type": "code",
   "execution_count": 1,
   "metadata": {},
   "outputs": [
    {
     "name": "stdout",
     "output_type": "stream",
     "text": [
      "Lütfen bir sayı girin4545\n",
      "<class 'str'>\n"
     ]
    }
   ],
   "source": [
    "a = input(\"Lütfen bir sayı girin\") \n",
    "print(type(a))"
   ]
  },
  {
   "cell_type": "code",
   "execution_count": 3,
   "metadata": {},
   "outputs": [],
   "source": [
    "#input default olarak string verir"
   ]
  },
  {
   "cell_type": "code",
   "execution_count": 4,
   "metadata": {},
   "outputs": [
    {
     "name": "stdout",
     "output_type": "stream",
     "text": [
      "Lütfen bir sayı girin: 3242\n",
      "9726\n"
     ]
    }
   ],
   "source": [
    "a = int(input(\"Lütfen bir sayı girin: \"))\n",
    "print(a*3)"
   ]
  },
  {
   "cell_type": "code",
   "execution_count": 8,
   "metadata": {},
   "outputs": [
    {
     "name": "stdout",
     "output_type": "stream",
     "text": [
      "Lütfen bir sayı girin: dhjkashd\n",
      "Lütfen bir sayı girin: jsadfh\n",
      "Lütfen bir sayı girin: jdahf\n",
      "Toplam dhjkashdjsadfhjdahf\n"
     ]
    }
   ],
   "source": [
    "a = str(input(\"Lütfen bir sayı girin: \"))\n",
    "b = str(input(\"Lütfen bir sayı girin: \"))\n",
    "c = str(input(\"Lütfen bir sayı girin: \"))\n",
    "print(\"Toplam\", a+b+c)"
   ]
  },
  {
   "cell_type": "code",
   "execution_count": 11,
   "metadata": {},
   "outputs": [
    {
     "name": "stdout",
     "output_type": "stream",
     "text": [
      "a:sjadh\n",
      "Lütfen input'u doğru formatta girin\n"
     ]
    }
   ],
   "source": [
    "try:\n",
    "    a = int(input(\"a:\"))\n",
    "    print(a)\n",
    "except ValueError:\n",
    "    print(\"Lütfen input'u doğru formatta girin\")"
   ]
  },
  {
   "cell_type": "code",
   "execution_count": null,
   "metadata": {},
   "outputs": [],
   "source": []
  }
 ],
 "metadata": {
  "kernelspec": {
   "display_name": "Python 3",
   "language": "python",
   "name": "python3"
  },
  "language_info": {
   "codemirror_mode": {
    "name": "ipython",
    "version": 3
   },
   "file_extension": ".py",
   "mimetype": "text/x-python",
   "name": "python",
   "nbconvert_exporter": "python",
   "pygments_lexer": "ipython3",
   "version": "3.8.5"
  }
 },
 "nbformat": 4,
 "nbformat_minor": 4
}
