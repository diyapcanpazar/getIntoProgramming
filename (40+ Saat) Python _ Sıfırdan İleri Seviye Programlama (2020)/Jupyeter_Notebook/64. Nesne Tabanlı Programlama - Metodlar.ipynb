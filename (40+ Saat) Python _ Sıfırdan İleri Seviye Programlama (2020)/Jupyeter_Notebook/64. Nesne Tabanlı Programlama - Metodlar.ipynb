{
 "cells": [
  {
   "cell_type": "markdown",
   "metadata": {},
   "source": [
    "# 64. Nesne Tabanlı Programlama - Metodlar"
   ]
  },
  {
   "cell_type": "code",
   "execution_count": 39,
   "metadata": {
    "scrolled": true
   },
   "outputs": [
    {
     "name": "stdout",
     "output_type": "stream",
     "text": [
      "\n",
      "        Yazılımcı Objesinin Özellikleri\n",
      "        \n",
      "        İsim: Can\n",
      "        Soyisim: Pazar        \n",
      "        Numara: 5338537035\n",
      "        Maas: 1551515\n",
      "        Bildiği Diller: ['Python', 'Java', 'C', 'C#']\n",
      "        \n",
      "        \n",
      "Maaş arttırlıyor \n",
      "1551527\n",
      "Diller arttırlıyor \n",
      "['Python', 'Java', 'C', 'C#', 'Javaaa']\n"
     ]
    }
   ],
   "source": [
    "from time import sleep \n",
    "class Yazilimci():\n",
    "    def __init__(self,isim,soyisim,maas,numara,diller):\n",
    "        self.isim = isim\n",
    "        self.soyisim = soyisim\n",
    "        self.maas = maas \n",
    "        self.numara = numara\n",
    "        self.diller = diller\n",
    "        \n",
    "    def bilgileriGoster(self):\n",
    "        print(\"\"\"\n",
    "        Yazılımcı Objesinin Özellikleri\n",
    "        \n",
    "        İsim: {}\n",
    "        Soyisim: {}        \n",
    "        Numara: {}\n",
    "        Maas: {}\n",
    "        Bildiği Diller: {}\n",
    "        \n",
    "        \"\"\".format(self.isim,self.soyisim,self.numara,self.maas,self.diller))\n",
    "    def zamyap(self,zam):\n",
    "        print(\"Maaş arttırlıyor \")\n",
    "        sleep(2)\n",
    "        self.maas += zam\n",
    "        print(self.maas)\n",
    "    def dil_ekle(self,dil):\n",
    "        print(\"Diller arttırlıyor \")\n",
    "        sleep(2)\n",
    "        self.diller.append(dil)\n",
    "        print(self.diller)\n",
    "    def numara(self,numara):\n",
    "        a = \n",
    "        \n",
    "yazilimci = Yazilimci(\"Can\",\"Pazar\",1551515,5338537035, [\"Python\",\"Java\",\"C\",\"C#\"])\n",
    "yazilimci.bilgileriGoster()\n",
    "yazilimci.zamyap(12)\n",
    "yazilimci.dil_ekle(\"Javaaa\")"
   ]
  },
  {
   "cell_type": "code",
   "execution_count": 41,
   "metadata": {},
   "outputs": [
    {
     "name": "stdout",
     "output_type": "stream",
     "text": [
      "Diller arttırlıyor \n",
      "['Python', 'Java', 'C', 'C#', 'Javaaa', 'Go']\n"
     ]
    }
   ],
   "source": [
    "yazilimci.dil_ekle(\"Go\")"
   ]
  },
  {
   "cell_type": "code",
   "execution_count": 38,
   "metadata": {},
   "outputs": [
    {
     "name": "stdout",
     "output_type": "stream",
     "text": [
      "Maaş arttırlıyor \n",
      "1552027\n"
     ]
    }
   ],
   "source": [
    "yazilimci.zamyap(500)"
   ]
  },
  {
   "cell_type": "code",
   "execution_count": 42,
   "metadata": {},
   "outputs": [
    {
     "name": "stdout",
     "output_type": "stream",
     "text": [
      "\n",
      "        Yazılımcı Objesinin Özellikleri\n",
      "        \n",
      "        İsim: Can\n",
      "        Soyisim: Pazar        \n",
      "        Numara: 5338537035\n",
      "        Maas: 1551527\n",
      "        Bildiği Diller: ['Python', 'Java', 'C', 'C#', 'Javaaa', 'Go']\n",
      "        \n",
      "        \n"
     ]
    }
   ],
   "source": [
    "yazilimci.bilgileriGoster()"
   ]
  },
  {
   "cell_type": "code",
   "execution_count": 45,
   "metadata": {},
   "outputs": [
    {
     "name": "stdout",
     "output_type": "stream",
     "text": [
      "can can+cacacac\n"
     ]
    }
   ],
   "source": [
    "print(\"can can\",\"cacacac\",sep=\"+\")"
   ]
  },
  {
   "cell_type": "code",
   "execution_count": 46,
   "metadata": {},
   "outputs": [
    {
     "name": "stdout",
     "output_type": "stream",
     "text": [
      "%s is my name can\n"
     ]
    }
   ],
   "source": []
  },
  {
   "cell_type": "code",
   "execution_count": null,
   "metadata": {},
   "outputs": [],
   "source": []
  }
 ],
 "metadata": {
  "kernelspec": {
   "display_name": "Python 3",
   "language": "python",
   "name": "python3"
  },
  "language_info": {
   "codemirror_mode": {
    "name": "ipython",
    "version": 3
   },
   "file_extension": ".py",
   "mimetype": "text/x-python",
   "name": "python",
   "nbconvert_exporter": "python",
   "pygments_lexer": "ipython3",
   "version": "3.8.5"
  }
 },
 "nbformat": 4,
 "nbformat_minor": 4
}
