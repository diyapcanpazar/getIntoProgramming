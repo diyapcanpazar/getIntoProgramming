{
 "cells": [
  {
   "cell_type": "markdown",
   "metadata": {},
   "source": [
    "# FONKSİYONLAR"
   ]
  },
  {
   "cell_type": "code",
   "execution_count": 1,
   "metadata": {},
   "outputs": [
    {
     "ename": "NameError",
     "evalue": "name 'selamla' is not defined",
     "output_type": "error",
     "traceback": [
      "\u001b[1;31m---------------------------------------------------------------------------\u001b[0m",
      "\u001b[1;31mNameError\u001b[0m                                 Traceback (most recent call last)",
      "\u001b[1;32m<ipython-input-1-837d7766cd6a>\u001b[0m in \u001b[0;36m<module>\u001b[1;34m\u001b[0m\n\u001b[1;32m----> 1\u001b[1;33m \u001b[0mtype\u001b[0m\u001b[1;33m(\u001b[0m\u001b[0mselamla\u001b[0m\u001b[1;33m)\u001b[0m\u001b[1;33m\u001b[0m\u001b[1;33m\u001b[0m\u001b[0m\n\u001b[0m",
      "\u001b[1;31mNameError\u001b[0m: name 'selamla' is not defined"
     ]
    }
   ],
   "source": [
    "type(selamla)"
   ]
  },
  {
   "cell_type": "code",
   "execution_count": 9,
   "metadata": {},
   "outputs": [],
   "source": [
    "def selamla(a):\n",
    "    print(\"Merhaba....\",a)\n",
    "    print(\"Nasılsınız?  \")"
   ]
  },
  {
   "cell_type": "code",
   "execution_count": 10,
   "metadata": {},
   "outputs": [
    {
     "data": {
      "text/plain": [
       "function"
      ]
     },
     "execution_count": 10,
     "metadata": {},
     "output_type": "execute_result"
    }
   ],
   "source": [
    "type(selamla)"
   ]
  },
  {
   "cell_type": "code",
   "execution_count": 12,
   "metadata": {},
   "outputs": [
    {
     "name": "stdout",
     "output_type": "stream",
     "text": [
      "Merhaba.... Can\n",
      "Nasılsınız?  \n"
     ]
    }
   ],
   "source": [
    "selamla(\"Can\")"
   ]
  },
  {
   "cell_type": "code",
   "execution_count": 13,
   "metadata": {},
   "outputs": [
    {
     "name": "stdout",
     "output_type": "stream",
     "text": [
      "Merhaba.... 1\n",
      "Nasılsınız?  \n"
     ]
    }
   ],
   "source": [
    "selamla(1)"
   ]
  },
  {
   "cell_type": "code",
   "execution_count": 17,
   "metadata": {},
   "outputs": [
    {
     "name": "stdout",
     "output_type": "stream",
     "text": [
      "İsiminizi girincanü\n",
      "Merhaba.... canü\n",
      "Nasılsınız?  \n",
      "İsiminizi girincan\n",
      "Merhaba.... can\n",
      "Nasılsınız?  \n",
      "İsiminizi girincan\n",
      "Merhaba.... can\n",
      "Nasılsınız?  \n",
      "İsiminizi girinq\n",
      "program bitti\n"
     ]
    }
   ],
   "source": [
    "a = input(\"İsiminizi girin\")\n",
    "while(a!=\"q\"):\n",
    "    selamla(a)\n",
    "    a = input(\"İsiminizi girin\")\n",
    "print(\"program bitti\")"
   ]
  },
  {
   "cell_type": "code",
   "execution_count": 29,
   "metadata": {},
   "outputs": [],
   "source": [
    "def faktoriyel(a):\n",
    "    fakt = 1\n",
    "    if (a == 0 or a == 1):\n",
    "        print(\"Faktoriyel:\",a)\n",
    "    else:\n",
    "        while(a >= 1):\n",
    "            fakt *= a\n",
    "            a -=1\n",
    "        print(fakt)"
   ]
  },
  {
   "cell_type": "code",
   "execution_count": 26,
   "metadata": {},
   "outputs": [
    {
     "name": "stdout",
     "output_type": "stream",
     "text": [
      "Bir sayı giriniz.48\n",
      "12413915592536072670862289047373375038521486354677760000000000\n"
     ]
    }
   ],
   "source": [
    "a = int(input(\"Bir sayı giriniz.\"))\n",
    "faktoriyel(a)\n"
   ]
  },
  {
   "cell_type": "code",
   "execution_count": null,
   "metadata": {},
   "outputs": [],
   "source": []
  }
 ],
 "metadata": {
  "kernelspec": {
   "display_name": "Python 3",
   "language": "python",
   "name": "python3"
  },
  "language_info": {
   "codemirror_mode": {
    "name": "ipython",
    "version": 3
   },
   "file_extension": ".py",
   "mimetype": "text/x-python",
   "name": "python",
   "nbconvert_exporter": "python",
   "pygments_lexer": "ipython3",
   "version": "3.8.5"
  }
 },
 "nbformat": 4,
 "nbformat_minor": 4
}
