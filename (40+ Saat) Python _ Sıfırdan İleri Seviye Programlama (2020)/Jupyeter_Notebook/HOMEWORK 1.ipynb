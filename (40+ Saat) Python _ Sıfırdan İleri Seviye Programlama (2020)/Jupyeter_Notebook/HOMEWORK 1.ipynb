{
 "cells": [
  {
   "cell_type": "markdown",
   "metadata": {},
   "source": [
    "## Problemler"
   ]
  },
  {
   "cell_type": "markdown",
   "metadata": {},
   "source": [
    "### Problem 1:"
   ]
  },
  {
   "cell_type": "code",
   "execution_count": null,
   "metadata": {},
   "outputs": [],
   "source": [
    "print(\"Hello please wrıte 3 numbers to mulitply\")\n",
    "a = int(input(\"A:\"))\n",
    "b = int(input(\"B: \"))\n",
    "c = int(input(\"C: \"))\n",
    "result = a*b*c\n",
    "print(\"Result is: {}\".format(result))"
   ]
  },
  {
   "cell_type": "markdown",
   "metadata": {},
   "source": [
    "### Problem 2:"
   ]
  },
  {
   "cell_type": "code",
   "execution_count": 1,
   "metadata": {},
   "outputs": [
    {
     "name": "stdout",
     "output_type": "stream",
     "text": [
      "Hello please write down your height and weight to find your body mass index\n",
      "Enter your height: 181\n",
      "Enter your weight: 70\n",
      "Your body mass index is: 0.0021366869143188546\n"
     ]
    }
   ],
   "source": [
    "print(\"Hello please write down your height and weight to find your body mass index\")\n",
    "h = float(input(\"Enter your height: \"))\n",
    "w = float(input(\"Enter your weight: \"))\n",
    "index = w/h**2\n",
    "print(\"Your body mass index is: {}\".format(index))"
   ]
  },
  {
   "cell_type": "markdown",
   "metadata": {},
   "source": [
    "### Problem 3:"
   ]
  },
  {
   "cell_type": "code",
   "execution_count": 3,
   "metadata": {},
   "outputs": [
    {
     "name": "stdout",
     "output_type": "stream",
     "text": [
      "Let me calculate how much will your car spend per km...\n",
      "My car's fuel tube can be full with x TL: 220\n",
      "My car can go for x km with full repository: 70\n",
      "Your car will spend 3.142857142857143 TL per 1 kilometer\n"
     ]
    }
   ],
   "source": [
    "print(\"Let me calculate how much will your car spend per km...\")\n",
    "full = int(input(\"My car's fuel tube can be full with x TL: \"))\n",
    "dist = int(input(\"My car can go for x km with full repository: \"))\n",
    "calcPerKm = full / dist\n",
    "print(\"Your car will spend {} TL per 1 kilometer\".format(calcPerKm))"
   ]
  },
  {
   "cell_type": "markdown",
   "metadata": {},
   "source": [
    "### Problem 4:"
   ]
  },
  {
   "cell_type": "code",
   "execution_count": 5,
   "metadata": {},
   "outputs": [
    {
     "name": "stdout",
     "output_type": "stream",
     "text": [
      "Please enter your information for registeration:\n",
      "Your name: Can\n",
      "Your surname: Pazar\n",
      "Your number: 05338537035\n",
      "Welcome Can\n",
      "-YOUR INFORMATIONS-\n",
      "Can\n",
      "Pazar\n",
      "05338537035\n"
     ]
    }
   ],
   "source": [
    "print(\"Please enter your information for registeration:\")\n",
    "name = input(\"Your name: \")\n",
    "surname = input(\"Your surname: \")\n",
    "num = input(\"Your number: \")\n",
    "print(\"Welcome {}\".format(name))\n",
    "print(\"-YOUR INFORMATIONS-\")\n",
    "print(name+\"\\n\"+surname+\"\\n\"+num )"
   ]
  },
  {
   "cell_type": "markdown",
   "metadata": {},
   "source": [
    "### Problem 5"
   ]
  },
  {
   "cell_type": "code",
   "execution_count": 7,
   "metadata": {},
   "outputs": [
    {
     "name": "stdout",
     "output_type": "stream",
     "text": [
      "Lütfen ilk sayıyı girin: 5\n",
      "Lütfen ikinci sayıyı girin: 2\n",
      "New values of numbers: 2 5\n"
     ]
    }
   ],
   "source": [
    "a = int(input(\"Lütfen ilk sayıyı girin: \"))\n",
    "b = int(input(\"Lütfen ikinci sayıyı girin: \"))\n",
    "a,b = b,a\n",
    "print(\"New values of numbers: {} {}\".format(a,b))"
   ]
  },
  {
   "cell_type": "markdown",
   "metadata": {},
   "source": [
    "### Problem 6"
   ]
  },
  {
   "cell_type": "code",
   "execution_count": null,
   "metadata": {},
   "outputs": [],
   "source": [
    "a = int(input(\"Enter the value of a: \"))\n",
    "b = int(input(\"Enter the value of b: \"))\n",
    "res = (a**2+b**2)**0.5 \n",
    "print(\"Hypotenus: {}\".format(res))"
   ]
  }
 ],
 "metadata": {
  "kernelspec": {
   "display_name": "Python 3",
   "language": "python",
   "name": "python3"
  },
  "language_info": {
   "codemirror_mode": {
    "name": "ipython",
    "version": 3
   },
   "file_extension": ".py",
   "mimetype": "text/x-python",
   "name": "python",
   "nbconvert_exporter": "python",
   "pygments_lexer": "ipython3",
   "version": "3.8.5"
  }
 },
 "nbformat": 4,
 "nbformat_minor": 4
}
