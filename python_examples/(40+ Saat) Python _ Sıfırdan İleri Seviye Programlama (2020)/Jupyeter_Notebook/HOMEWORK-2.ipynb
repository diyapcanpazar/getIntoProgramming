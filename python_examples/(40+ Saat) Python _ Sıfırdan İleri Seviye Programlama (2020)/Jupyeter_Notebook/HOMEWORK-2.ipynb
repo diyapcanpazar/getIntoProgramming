{
 "cells": [
  {
   "cell_type": "markdown",
   "metadata": {},
   "source": [
    "### Problem 1:"
   ]
  },
  {
   "cell_type": "code",
   "execution_count": 33,
   "metadata": {},
   "outputs": [
    {
     "name": "stdout",
     "output_type": "stream",
     "text": [
      "BEDEN KİTLE İNDEKSİ HESAPLAMA\n",
      "*****************************\n",
      "Lütfen kilonuzu girin: 70\n",
      "Lütfen boyunuzu girin: 1.81\n",
      "Beden indeksiniz : 21.36686914318855\n",
      "Kilonuz yerinde!\n"
     ]
    }
   ],
   "source": [
    "print(\"BEDEN KİTLE İNDEKSİ HESAPLAMA\")\n",
    "print(\"*****************************\")\n",
    "a = int(input(\"Lütfen kilonuzu girin: \"))\n",
    "b = float(input(\"Lütfen boyunuzu cm cinsinden girin: \"))\n",
    "resBedenInd = a/ b**2\n",
    "print(\"Beden indeksiniz : {}\".format(resBedenInd))\n",
    "if (resBedenInd <= 18.5):\n",
    "    print(\"Zayıfsınız :(\")\n",
    "elif (resBedenInd >= 18.5 and resBedenInd < 25):\n",
    "    print(\"Kilonuz yerinde!\")\n",
    "elif (resBedenInd >= 25 and resBedenInd < 30 ):\n",
    "    print(\"Kilo vermeniz gerek :(\")\n",
    "else:\n",
    "    print(\"Ölümüne yediniz sanırım?\")"
   ]
  },
  {
   "cell_type": "markdown",
   "metadata": {},
   "source": [
    "### Problem 2:"
   ]
  },
  {
   "cell_type": "code",
   "execution_count": 39,
   "metadata": {},
   "outputs": [
    {
     "name": "stdout",
     "output_type": "stream",
     "text": [
      "Enter 3 integers to compare\n",
      "Enter 1st integer: 5\n",
      "Enter 2nd integer: 4\n",
      "Enter 3th integer: 9\n",
      "9 is the biggest\n"
     ]
    }
   ],
   "source": [
    "print(\"Enter 3 integers to compare\")\n",
    "z = int(input(\"Enter 1st integer: \"))\n",
    "yz = int(input(\"Enter 2nd integer: \"))\n",
    "az = int(input(\"Enter 3th integer: \"))\n",
    "if (z > yz and z > az):\n",
    "    print(\"{} is the biggest\".format(z))\n",
    "elif(yz > z and yz > az):\n",
    "    print(\"{} is the biggest\".format(yz))\n",
    "elif(az > z and az > yz):\n",
    "    print(\"{} is the biggest\".format(az))\n",
    "else:\n",
    "    print(\"There is no biggest.\")\n"
   ]
  },
  {
   "cell_type": "markdown",
   "metadata": {},
   "source": [
    "### Problem 3"
   ]
  },
  {
   "cell_type": "code",
   "execution_count": 45,
   "metadata": {},
   "outputs": [
    {
     "name": "stdout",
     "output_type": "stream",
     "text": [
      "LETS CALCULATE YOUR LETTER GRADE\n",
      "********************************\n",
      "Please enter your midterm 1 grade: 80\n",
      "Please enter your midterm 2 grade: 80\n",
      "Enter final exam grade: 80\n",
      "Your final grade: 80.0\n",
      "BB\n"
     ]
    }
   ],
   "source": [
    "print(\"LETS CALCULATE YOUR LETTER GRADE\")\n",
    "print(\"********************************\")\n",
    "vize1 = int(input(\"Please enter your midterm 1 grade: \"))\n",
    "vize2 = int(input(\"Please enter your midterm 2 grade: \"))\n",
    "final = int(input(\"Enter final exam grade: \"))\n",
    "finalGrade = (vize1*30/100)+(vize2*30/100)+(final*40/100)\n",
    "print(\"Your final grade: {}\".format(finalGrade))\n",
    "if (finalGrade >= 90):\n",
    "    print(\"Bravo your grade is AA!\")\n",
    "elif (finalGrade >=  85):\n",
    "    print(\"BA\")\n",
    "elif (finalGrade >=  80):\n",
    "    print(\"BB\")\n",
    "elif (finalGrade >=  75):\n",
    "    print(\"CB\")\n",
    "elif (finalGrade >=  70):\n",
    "    print(\"CC\")\n",
    "elif (finalGrade >=  65):\n",
    "    print(\"DC\")\n",
    "elif (finalGrade >=  60):\n",
    "    print(\"DD\")\n",
    "elif (finalGrade >=  55):\n",
    "    print(\"FD\")\n",
    "else:\n",
    "    print(\"FF\")"
   ]
  },
  {
   "cell_type": "markdown",
   "metadata": {},
   "source": [
    "### Problem 4:"
   ]
  },
  {
   "cell_type": "code",
   "execution_count": 61,
   "metadata": {},
   "outputs": [
    {
     "name": "stdout",
     "output_type": "stream",
     "text": [
      "SHAPE AREA FOUNDER\n",
      "******************\n",
      "You can choose one of the options below:\n",
      "1: If you press 1 it will calculate for triangle.\n",
      "2: If you press 2 it will calculate for rectangle.\n",
      "Please type what would you like to calculate:2\n",
      "Enter 1st corner: 4\n",
      "Enter 2nd corner: 5\n",
      "Enter 3th corner: 4\n",
      "Enter 4th corner: 5\n",
      "Bu bir diktörtgen!\n"
     ]
    }
   ],
   "source": [
    "print(\"SHAPE AREA FOUNDER\")\n",
    "print(\"******************\")\n",
    "print(\"\"\"You can choose one of the options below:\n",
    "1: If you press 1 it will calculate for triangle.\n",
    "2: If you press 2 it will calculate for rectangle.\"\"\")\n",
    "optChos = int(input(\"Please type what would you like to calculate:\"))\n",
    "if (optChos == 2):\n",
    "    a = int(input(\"Enter 1st corner: \"))\n",
    "    b = int(input(\"Enter 2nd corner: \"))\n",
    "    c = int(input(\"Enter 3th corner: \"))\n",
    "    d = int(input(\"Enter 4th corner: \"))\n",
    "    if (a == c and b == d):\n",
    "        print(\"Bu bir diktörtgen!\")\n",
    "    elif (a == b and a == c and a == d):\n",
    "        print(\"Bu bir kare!\")\n",
    "    else:\n",
    "        print(\"Dörtgen!\")\n",
    "elif (optChos == 1): \n",
    "    a = int(input(\"Enter 1st corner: \"))\n",
    "    b = int(input(\"Enter 2nd corner: \"))\n",
    "    c = int(input(\"Enter 3th corner: \"))\n",
    "    if (abs(a+b) > c and abs(a+c) > b and abs(b+c) > a):\n",
    "        if (a == b and a == c and b == c):\n",
    "            print(\"Bu bir eşkenar üçgen!\")\n",
    "        elif((a == b and a != c) or (a == c and a != b) or (b == c and b != a)):\n",
    "            print(\"Bu bir ikizkenar üçgen\")\n",
    "        else: \n",
    "            print(\"Bu çeşitkenar üçgen.\")\n",
    "    else: \n",
    "        print(\"Bu bir üçgen olamaz.\")\n",
    "else:\n",
    "    print(\"Yanlış veri girdiniz:/\")"
   ]
  }
 ],
 "metadata": {
  "kernelspec": {
   "display_name": "Python 3",
   "language": "python",
   "name": "python3"
  },
  "language_info": {
   "codemirror_mode": {
    "name": "ipython",
    "version": 3
   },
   "file_extension": ".py",
   "mimetype": "text/x-python",
   "name": "python",
   "nbconvert_exporter": "python",
   "pygments_lexer": "ipython3",
   "version": "3.8.5"
  }
 },
 "nbformat": 4,
 "nbformat_minor": 4
}
