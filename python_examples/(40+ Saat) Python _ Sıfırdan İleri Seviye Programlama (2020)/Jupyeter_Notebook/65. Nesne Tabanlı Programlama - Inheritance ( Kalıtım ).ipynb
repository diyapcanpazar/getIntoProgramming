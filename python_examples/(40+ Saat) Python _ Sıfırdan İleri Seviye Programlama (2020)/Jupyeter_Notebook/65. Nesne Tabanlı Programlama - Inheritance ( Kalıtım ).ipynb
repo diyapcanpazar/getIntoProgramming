{
 "cells": [
  {
   "cell_type": "markdown",
   "metadata": {},
   "source": [
    "# 65. Nesne Tabanlı Programlama - Inheritance ( Kalıtım )"
   ]
  },
  {
   "cell_type": "code",
   "execution_count": 7,
   "metadata": {},
   "outputs": [
    {
     "name": "stdout",
     "output_type": "stream",
     "text": [
      "Çalışan sınıfının init fonksiyonu\n",
      "<class 'int'>\n",
      "Çalışan kısmının bilgileri....\n",
      "İsim: Serhat\n",
      "Maas: CS\n",
      "Departman: 3441006\n"
     ]
    }
   ],
   "source": [
    "class Calisan(): #sınıf burası\n",
    "    def __init__(self,isim,maas,departman): # ilk çalışacak method bir nevi const.\n",
    "        print(\"Çalışan sınıfının init fonksiyonu\")\n",
    "        self.isim = isim #bu classa ait olanların alması must olan attributesler\n",
    "        self.maas = maas\n",
    "        self.departman = departman\n",
    "    def bilgileriGoster(self):#bu bilgileri göstermek için olan bir method\n",
    "        print(\"Çalışan kısmının bilgileri....\")\n",
    "        print(\"İsim: {}\\nMaas: {}\\nDepartman: {}\".format(self.isim,self.departman,self.maas))\n",
    "    def departmanDegis(self,isim): #bu departman değişmek için olan method\n",
    "        print(\"Değiştiriliyor..\")\n",
    "        self.departman = isim\n",
    "        print(self.departman)\n",
    "class Yonetici(Calisan):\n",
    "    def zam_yap(self,zam):\n",
    "        self.maas += zam\n",
    "        print(type(zam))\n",
    "yonetici = Yonetici(\"Serhat\",3432432,\"CS\")#yöneticiye yeni bilgiler ekliyoruz\n",
    "yonetici.zam_yap(8574)\n",
    "yonetici.bilgileriGoster()"
   ]
  },
  {
   "cell_type": "code",
   "execution_count": null,
   "metadata": {},
   "outputs": [],
   "source": [
    "class Yonetici(Calisan):\n",
    "    pass #burası inheritence yapan ayrı bir class buna rağmen pass dedik ki daha sonra  \n"
   ]
  },
  {
   "cell_type": "code",
   "execution_count": null,
   "metadata": {},
   "outputs": [],
   "source": [
    "yonetici = Yonetici(\"Can\",\"AI\",\"30000000\") #yeni bir obje oluşturuyoruz yönetici objesi"
   ]
  },
  {
   "cell_type": "code",
   "execution_count": null,
   "metadata": {},
   "outputs": [],
   "source": [
    "yonetici.bilgileriGoster() #oluşturduğumuz objenin bilgilerini yazdırıyoruz"
   ]
  },
  {
   "cell_type": "code",
   "execution_count": null,
   "metadata": {},
   "outputs": [],
   "source": [
    "yonetici.departmanDegis(\"CS\")#yine kalıtımla aldığımız methodu kullanıyoruz"
   ]
  },
  {
   "cell_type": "code",
   "execution_count": 8,
   "metadata": {},
   "outputs": [
    {
     "data": {
      "text/plain": [
       "['__class__',\n",
       " '__delattr__',\n",
       " '__dict__',\n",
       " '__dir__',\n",
       " '__doc__',\n",
       " '__eq__',\n",
       " '__format__',\n",
       " '__ge__',\n",
       " '__getattribute__',\n",
       " '__gt__',\n",
       " '__hash__',\n",
       " '__init__',\n",
       " '__init_subclass__',\n",
       " '__le__',\n",
       " '__lt__',\n",
       " '__module__',\n",
       " '__ne__',\n",
       " '__new__',\n",
       " '__reduce__',\n",
       " '__reduce_ex__',\n",
       " '__repr__',\n",
       " '__setattr__',\n",
       " '__sizeof__',\n",
       " '__str__',\n",
       " '__subclasshook__',\n",
       " '__weakref__',\n",
       " 'bilgileriGoster',\n",
       " 'departman',\n",
       " 'departmanDegis',\n",
       " 'isim',\n",
       " 'maas',\n",
       " 'zam_yap']"
      ]
     },
     "execution_count": 8,
     "metadata": {},
     "output_type": "execute_result"
    }
   ],
   "source": [
    "dir(yonetici)"
   ]
  },
  {
   "cell_type": "code",
   "execution_count": 22,
   "metadata": {},
   "outputs": [],
   "source": [
    "class Calisan(): #sınıf burası\n",
    "    def __init__(self,isim,maas,departman): # ilk çalışacak method bir nevi const.\n",
    "        print(\"Çalışan sınıfının init fonksiyonu\")\n",
    "        self.isim = isim #bu classa ait olanların alması must olan attributesler\n",
    "        self.maas = maas\n",
    "        self.departman = departman\n",
    "    def bilgileriGoster(self):#bu bilgileri göstermek için olan bir method\n",
    "        print(\"Çalışan kısmının bilgileri....\")\n",
    "        print(\"İsim: {}\\nMaas: {}\\nDepartman: {}\".format(self.isim,self.departman,self.maas))\n",
    "    def departmanDegis(self,isim): #bu departman değişmek için olan method\n",
    "        print(\"Değiştiriliyor..\")\n",
    "        self.departman = isim\n",
    "        print(self.departman)\n"
   ]
  },
  {
   "cell_type": "code",
   "execution_count": 31,
   "metadata": {},
   "outputs": [],
   "source": [
    "class Yonetici(Calisan):\n",
    "    def __init__(self,isim,maas,departman,kisis): # OVERRIDE YAPILDI ilk çalışacak method bir nevi const.\n",
    "        super().__init__(isim,maas,departman)\n",
    "        print(\"Yönetici sınıfının init fonksiyonu\")\n",
    "        self.kisis = kisis\n",
    "    def bilgileriGoster(self):#bu bilgileri göstermek için olan bir method\n",
    "        print(\"Çalışan kısmının bilgileri....\")\n",
    "        print(\"İsim: {}\\nMaas: {}\\nDepartman: {}\\nKişi Sayısı: {}\".format(self.isim,self.departman,self.maas,self.kisis))\n",
    "    def zam_yap(self,zam):\n",
    "        self.maas += zam\n",
    "        print(type(zam))\n"
   ]
  },
  {
   "cell_type": "code",
   "execution_count": 33,
   "metadata": {},
   "outputs": [
    {
     "name": "stdout",
     "output_type": "stream",
     "text": [
      "Çalışan sınıfının init fonksiyonu\n",
      "Yönetici sınıfının init fonksiyonu\n",
      "<class 'int'>\n",
      "Çalışan kısmının bilgileri....\n",
      "İsim: can\n",
      "Maas: Ce\n",
      "Departman: 11574\n",
      "Kişi Sayısı: 1212\n"
     ]
    }
   ],
   "source": [
    "yonetici = Yonetici(\"can\",3000,\"Ce\",1212)#yöneticiye yeni bilgiler ekliyoruz\n",
    "yonetici.zam_yap(8574)\n",
    "yonetici.bilgileriGoster()"
   ]
  },
  {
   "cell_type": "code",
   "execution_count": 34,
   "metadata": {},
   "outputs": [
    {
     "name": "stdout",
     "output_type": "stream",
     "text": [
      "Çalışan kısmının bilgileri....\n",
      "İsim: can\n",
      "Maas: Ce\n",
      "Departman: 11574\n",
      "Kişi Sayısı: 1212\n"
     ]
    }
   ],
   "source": [
    "yonetici.bilgileriGoster()"
   ]
  },
  {
   "cell_type": "code",
   "execution_count": null,
   "metadata": {},
   "outputs": [],
   "source": []
  }
 ],
 "metadata": {
  "kernelspec": {
   "display_name": "Python 3",
   "language": "python",
   "name": "python3"
  },
  "language_info": {
   "codemirror_mode": {
    "name": "ipython",
    "version": 3
   },
   "file_extension": ".py",
   "mimetype": "text/x-python",
   "name": "python",
   "nbconvert_exporter": "python",
   "pygments_lexer": "ipython3",
   "version": "3.8.5"
  }
 },
 "nbformat": 4,
 "nbformat_minor": 4
}
